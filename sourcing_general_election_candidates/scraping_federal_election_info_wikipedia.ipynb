{
 "cells": [
  {
   "cell_type": "code",
   "execution_count": 1,
   "id": "20c5e086",
   "metadata": {},
   "outputs": [
    {
     "data": {
      "text/html": [
       "<style>.container { width:100% !important; }</style>"
      ],
      "text/plain": [
       "<IPython.core.display.HTML object>"
      ]
     },
     "metadata": {},
     "output_type": "display_data"
    }
   ],
   "source": [
    "import os\n",
    "import pandas as pd\n",
    "import numpy as np\n",
    "import bamboolib as bam\n",
    "import wikipedia\n",
    "ipynb_file_name = os.path.dirname(os.path.realpath('__file__')).rsplit(\"\\\\\",1)[1]\n",
    "from IPython.core.display import display, HTML\n",
    "display(HTML('<style>.container { width:100% !important; }</style>'))\n",
    "from bs4 import BeautifulSoup\n",
    "import re\n",
    "import requests\n",
    "import json\n",
    "from datetime import datetime as dt\n",
    "from datetime import timedelta\n",
    "import time\n",
    "\n",
    "run_stamp = dt.now().strftime(\"%Y-%m-%d\")"
   ]
  },
  {
   "cell_type": "code",
   "execution_count": 2,
   "id": "ea52688b",
   "metadata": {},
   "outputs": [],
   "source": [
    "links = {'alabama':{ \n",
    "            'site': 'https://en.wikipedia.org/wiki/2022_United_States_House_of_Representatives_elections_in_Alabama'},\n",
    "        'alaska': {\n",
    "            'site': 'https://en.wikipedia.org/wiki/2022_United_States_House_of_Representatives_election_in_Alaska'},\n",
    "         'arkansas': {\n",
    "             'site': 'https://en.wikipedia.org/wiki/2022_United_States_House_of_Representatives_elections_in_Arkansas'},\n",
    "         'california': {\n",
    "             'site': 'https://en.wikipedia.org/wiki/2022_United_States_House_of_Representatives_elections_in_California'},\n",
    "         'colorado': {\n",
    "             'site': 'https://en.wikipedia.org/wiki/2022_United_States_House_of_Representatives_elections_in_Colorado'},\n",
    "         'connecticut': {\n",
    "             'site': 'https://en.wikipedia.org/wiki/2022_United_States_House_of_Representatives_elections_in_Connecticut'},\n",
    "         'delaware': {\n",
    "             'site': 'https://en.wikipedia.org/wiki/2022_United_States_House_of_Representatives_election_in_Delaware'},\n",
    "         'georgia': {\n",
    "             'site': 'https://en.wikipedia.org/wiki/2022_United_States_House_of_Representatives_elections_in_Georgia'},\n",
    "         'hawaii': {\n",
    "             'site': 'https://en.wikipedia.org/wiki/2022_United_States_House_of_Representatives_elections_in_Hawaii'},\n",
    "         'illinois': {\n",
    "             'site': 'https://en.wikipedia.org/wiki/2022_United_States_House_of_Representatives_elections_in_Illinois'},\n",
    "         'indiana': {\n",
    "             'site': 'https://en.wikipedia.org/wiki/2022_United_States_House_of_Representatives_elections_in_Indiana'},\n",
    "         'iowa': {\n",
    "             'site': 'https://en.wikipedia.org/wiki/2022_United_States_House_of_Representatives_elections_in_Iowa'},\n",
    "         'kansas': {\n",
    "             'site': 'https://en.wikipedia.org/wiki/2022_United_States_House_of_Representatives_elections_in_Kansas'},\n",
    "         'louisiana': {\n",
    "             'site': 'https://en.wikipedia.org/wiki/2022_United_States_House_of_Representatives_elections_in_Louisiana'},\n",
    "         'maine': {\n",
    "             'site': 'https://en.wikipedia.org/wiki/2022_United_States_House_of_Representatives_elections_in_Maine'},\n",
    "         'massachusetts': {\n",
    "             'site': 'https://en.wikipedia.org/wiki/2022_United_States_House_of_Representatives_elections_in_Massachusetts'},\n",
    "         'michigan': {\n",
    "             'site': 'https://en.wikipedia.org/wiki/2022_United_States_House_of_Representatives_elections_in_Michigan'},\n",
    "         'mississippi': {\n",
    "             'site': 'https://en.wikipedia.org/wiki/2022_United_States_House_of_Representatives_elections_in_Mississippi'},\n",
    "         'missouri': {\n",
    "             'site': 'https://en.wikipedia.org/wiki/2022_United_States_House_of_Representatives_elections_in_Missouri'},\n",
    "         'montana': {\n",
    "             'site': 'https://en.wikipedia.org/wiki/2022_United_States_House_of_Representatives_election_in_Montana'},\n",
    "         'nebraska': {\n",
    "             'site': 'https://en.wikipedia.org/wiki/2022_United_States_House_of_Representatives_elections_in_Nebrasksa'},\n",
    "         'nevada': {\n",
    "             'site': 'https://en.wikipedia.org/wiki/2022_United_States_House_of_Representatives_elections_in_Nevada'},\n",
    "         'new_jersey': {\n",
    "             'site': 'https://en.wikipedia.org/wiki/2022_United_States_House_of_Representatives_elections_in_New_Jersey'},\n",
    "         'new_mexico': {\n",
    "             'site': 'https://en.wikipedia.org/wiki/2022_United_States_House_of_Representatives_elections_in_New_Mexico'},\n",
    "         'new_york': {\n",
    "             'site': 'https://en.wikipedia.org/wiki/2022_United_States_House_of_Representatives_elections_in_New_York'},\n",
    "         'north_carolina': {\n",
    "             'site': 'https://en.wikipedia.org/wiki/2022_United_States_House_of_Representatives_elections_in_North_Carolina'},\n",
    "         'north_dakota': {\n",
    "              'site': 'https://en.wikipedia.org/wiki/2022_United_States_House_of_Representatives_election_in_North_Dakota'},\n",
    "         'ohio': {\n",
    "             'site': 'https://en.wikipedia.org/wiki/2022_United_States_House_of_Representatives_elections_in_Ohio'},\n",
    "         'oklahoma': {\n",
    "             'site': 'https://en.wikipedia.org/wiki/2022_United_States_House_of_Representatives_elections_in_Oklahoma'},\n",
    "         'oregon': {\n",
    "             'site': 'https://en.wikipedia.org/wiki/2022_United_States_House_of_Representatives_elections_in_Oregon'},\n",
    "         'pennsylvania': {\n",
    "             'site': 'https://en.wikipedia.org/wiki/2022_United_States_House_of_Representatives_elections_in_Pennsylvania'},\n",
    "         'rhode_island': {\n",
    "             'site': 'https://en.wikipedia.org/wiki/2022_United_States_House_of_Representatives_elections_in_Rhode_Island'},\n",
    "         'south_carolina': {\n",
    "             'site': 'https://en.wikipedia.org/wiki/2022_United_States_House_of_Representatives_elections_in_South_Carolina'},\n",
    "         'south_dakota': {\n",
    "             'site': 'https://en.wikipedia.org/wiki/2022_United_States_House_of_Representatives_election_in_South_Dakota'},\n",
    "         'tennessee': {\n",
    "             'site': 'https://en.wikipedia.org/wiki/2022_United_States_House_of_Representatives_elections_in_Tennessee'},\n",
    "         'texas': {\n",
    "             'site': 'https://en.wikipedia.org/wiki/2022_United_States_House_of_Representatives_elections_in_Texas'},\n",
    "         'utah': {\n",
    "             'site': 'https://en.wikipedia.org/wiki/2022_United_States_House_of_Representatives_elections_in_Utah'},\n",
    "         'vermont': {\n",
    "             'site': 'https://en.wikipedia.org/wiki/2022_United_States_House_of_Representatives_election_in_Vermont'},\n",
    "         'virginia': {\n",
    "             'site': 'https://en.wikipedia.org/wiki/2022_United_States_House_of_Representatives_elections_in_Virginia'},\n",
    "         'washington': {\n",
    "             'site': 'https://en.wikipedia.org/wiki/2022_United_States_House_of_Representatives_elections_in_Washington'},\n",
    "         'west_virginia': {\n",
    "             'site': 'https://en.wikipedia.org/wiki/2022_United_States_House_of_Representatives_elections_in_West_Virginia'},\n",
    "         'wyoming': {\n",
    "             'site': 'https://en.wikipedia.org/wiki/2022_United_States_House_of_Representatives_election_in_Wyoming'}\n",
    "}"
   ]
  },
  {
   "cell_type": "code",
   "execution_count": 3,
   "id": "82b16a0b",
   "metadata": {
    "scrolled": true
   },
   "outputs": [
    {
     "name": "stdout",
     "output_type": "stream",
     "text": [
      "Web scraping of alabama has begun!\n",
      "Currently scraping: https://en.wikipedia.org/wiki/2022_United_States_House_of_Representatives_elections_in_Alabama\n",
      "Something is wrong: '0'\n",
      "Web scraping of alaska has begun!\n",
      "Currently scraping: https://en.wikipedia.org/wiki/2022_United_States_House_of_Representatives_election_in_Alaska\n",
      "Web scraping alaska is complete!\n",
      "Web scraping of arkansas has begun!\n",
      "Currently scraping: https://en.wikipedia.org/wiki/2022_United_States_House_of_Representatives_elections_in_Arkansas\n",
      "Web scraping arkansas is complete!\n",
      "Web scraping of california has begun!\n",
      "Currently scraping: https://en.wikipedia.org/wiki/2022_United_States_House_of_Representatives_elections_in_California\n",
      "Web scraping california is complete!\n",
      "Web scraping of colorado has begun!\n",
      "Currently scraping: https://en.wikipedia.org/wiki/2022_United_States_House_of_Representatives_elections_in_Colorado\n",
      "Something is wrong: '0'\n",
      "Web scraping of connecticut has begun!\n",
      "Currently scraping: https://en.wikipedia.org/wiki/2022_United_States_House_of_Representatives_elections_in_Connecticut\n",
      "Web scraping connecticut is complete!\n",
      "Web scraping of delaware has begun!\n",
      "Currently scraping: https://en.wikipedia.org/wiki/2022_United_States_House_of_Representatives_election_in_Delaware\n",
      "Web scraping delaware is complete!\n",
      "Web scraping of georgia has begun!\n",
      "Currently scraping: https://en.wikipedia.org/wiki/2022_United_States_House_of_Representatives_elections_in_Georgia\n",
      "Something is wrong: '0'\n",
      "Web scraping of hawaii has begun!\n",
      "Currently scraping: https://en.wikipedia.org/wiki/2022_United_States_House_of_Representatives_elections_in_Hawaii\n",
      "Web scraping hawaii is complete!\n",
      "Web scraping of illinois has begun!\n",
      "Currently scraping: https://en.wikipedia.org/wiki/2022_United_States_House_of_Representatives_elections_in_Illinois\n",
      "Web scraping illinois is complete!\n",
      "Web scraping of indiana has begun!\n",
      "Currently scraping: https://en.wikipedia.org/wiki/2022_United_States_House_of_Representatives_elections_in_Indiana\n",
      "Something is wrong: '0'\n",
      "Web scraping of iowa has begun!\n",
      "Currently scraping: https://en.wikipedia.org/wiki/2022_United_States_House_of_Representatives_elections_in_Iowa\n",
      "Something is wrong: '0'\n",
      "Web scraping of kansas has begun!\n",
      "Currently scraping: https://en.wikipedia.org/wiki/2022_United_States_House_of_Representatives_elections_in_Kansas\n",
      "Web scraping kansas is complete!\n",
      "Web scraping of louisiana has begun!\n",
      "Currently scraping: https://en.wikipedia.org/wiki/2022_United_States_House_of_Representatives_elections_in_Louisiana\n",
      "Web scraping louisiana is complete!\n",
      "Web scraping of maine has begun!\n",
      "Currently scraping: https://en.wikipedia.org/wiki/2022_United_States_House_of_Representatives_elections_in_Maine\n",
      "Web scraping maine is complete!\n",
      "Web scraping of massachusetts has begun!\n",
      "Currently scraping: https://en.wikipedia.org/wiki/2022_United_States_House_of_Representatives_elections_in_Massachusetts\n",
      "Web scraping massachusetts is complete!\n",
      "Web scraping of michigan has begun!\n",
      "Currently scraping: https://en.wikipedia.org/wiki/2022_United_States_House_of_Representatives_elections_in_Michigan\n",
      "Web scraping michigan is complete!\n",
      "Web scraping of mississippi has begun!\n",
      "Currently scraping: https://en.wikipedia.org/wiki/2022_United_States_House_of_Representatives_elections_in_Mississippi\n",
      "Web scraping mississippi is complete!\n",
      "Web scraping of missouri has begun!\n",
      "Currently scraping: https://en.wikipedia.org/wiki/2022_United_States_House_of_Representatives_elections_in_Missouri\n",
      "Web scraping missouri is complete!\n",
      "Web scraping of montana has begun!\n",
      "Currently scraping: https://en.wikipedia.org/wiki/2022_United_States_House_of_Representatives_election_in_Montana\n",
      "Web scraping montana is complete!\n",
      "Web scraping of nebraska has begun!\n",
      "Currently scraping: https://en.wikipedia.org/wiki/2022_United_States_House_of_Representatives_elections_in_Nebrasksa\n",
      "Web scraping nebraska is complete!\n",
      "Web scraping of nevada has begun!\n",
      "Currently scraping: https://en.wikipedia.org/wiki/2022_United_States_House_of_Representatives_elections_in_Nevada\n",
      "Web scraping nevada is complete!\n",
      "Web scraping of new_jersey has begun!\n",
      "Currently scraping: https://en.wikipedia.org/wiki/2022_United_States_House_of_Representatives_elections_in_New_Jersey\n",
      "Web scraping new_jersey is complete!\n",
      "Web scraping of new_mexico has begun!\n",
      "Currently scraping: https://en.wikipedia.org/wiki/2022_United_States_House_of_Representatives_elections_in_New_Mexico\n",
      "Something is wrong: '0'\n",
      "Web scraping of new_york has begun!\n",
      "Currently scraping: https://en.wikipedia.org/wiki/2022_United_States_House_of_Representatives_elections_in_New_York\n",
      "Something is wrong: '0'\n",
      "Web scraping of north_carolina has begun!\n",
      "Currently scraping: https://en.wikipedia.org/wiki/2022_United_States_House_of_Representatives_elections_in_North_Carolina\n",
      "Something is wrong: '0'\n",
      "Web scraping of north_dakota has begun!\n",
      "Currently scraping: https://en.wikipedia.org/wiki/2022_United_States_House_of_Representatives_election_in_North_Dakota\n",
      "Web scraping north_dakota is complete!\n",
      "Web scraping of ohio has begun!\n",
      "Currently scraping: https://en.wikipedia.org/wiki/2022_United_States_House_of_Representatives_elections_in_Ohio\n",
      "Something is wrong: '0'\n",
      "Web scraping of oklahoma has begun!\n",
      "Currently scraping: https://en.wikipedia.org/wiki/2022_United_States_House_of_Representatives_elections_in_Oklahoma\n",
      "Web scraping oklahoma is complete!\n",
      "Web scraping of oregon has begun!\n",
      "Currently scraping: https://en.wikipedia.org/wiki/2022_United_States_House_of_Representatives_elections_in_Oregon\n",
      "Web scraping oregon is complete!\n",
      "Web scraping of pennsylvania has begun!\n",
      "Currently scraping: https://en.wikipedia.org/wiki/2022_United_States_House_of_Representatives_elections_in_Pennsylvania\n",
      "Web scraping pennsylvania is complete!\n",
      "Web scraping of rhode_island has begun!\n",
      "Currently scraping: https://en.wikipedia.org/wiki/2022_United_States_House_of_Representatives_elections_in_Rhode_Island\n",
      "Web scraping rhode_island is complete!\n",
      "Web scraping of south_carolina has begun!\n",
      "Currently scraping: https://en.wikipedia.org/wiki/2022_United_States_House_of_Representatives_elections_in_South_Carolina\n",
      "Web scraping south_carolina is complete!\n",
      "Web scraping of south_dakota has begun!\n",
      "Currently scraping: https://en.wikipedia.org/wiki/2022_United_States_House_of_Representatives_election_in_South_Dakota\n",
      "Something is wrong: '0'\n",
      "Web scraping of tennessee has begun!\n",
      "Currently scraping: https://en.wikipedia.org/wiki/2022_United_States_House_of_Representatives_elections_in_Tennessee\n",
      "Something is wrong: '0'\n",
      "Web scraping of texas has begun!\n",
      "Currently scraping: https://en.wikipedia.org/wiki/2022_United_States_House_of_Representatives_elections_in_Texas\n"
     ]
    },
    {
     "name": "stderr",
     "output_type": "stream",
     "text": [
      "C:\\Users\\Kohayward\\Anaconda3\\lib\\site-packages\\pandas\\core\\internals\\construction.py:309: VisibleDeprecationWarning:\n",
      "\n",
      "Creating an ndarray from ragged nested sequences (which is a list-or-tuple of lists-or-tuples-or ndarrays with different lengths or shapes) is deprecated. If you meant to do this, you must specify 'dtype=object' when creating the ndarray\n",
      "\n"
     ]
    },
    {
     "name": "stdout",
     "output_type": "stream",
     "text": [
      "Web scraping texas is complete!\n",
      "Web scraping of utah has begun!\n",
      "Currently scraping: https://en.wikipedia.org/wiki/2022_United_States_House_of_Representatives_elections_in_Utah\n",
      "Web scraping utah is complete!\n",
      "Web scraping of vermont has begun!\n",
      "Currently scraping: https://en.wikipedia.org/wiki/2022_United_States_House_of_Representatives_election_in_Vermont\n",
      "Web scraping vermont is complete!\n",
      "Web scraping of virginia has begun!\n",
      "Currently scraping: https://en.wikipedia.org/wiki/2022_United_States_House_of_Representatives_elections_in_Virginia\n",
      "Web scraping virginia is complete!\n",
      "Web scraping of washington has begun!\n",
      "Currently scraping: https://en.wikipedia.org/wiki/2022_United_States_House_of_Representatives_elections_in_Washington\n",
      "Web scraping washington is complete!\n",
      "Web scraping of west_virginia has begun!\n",
      "Currently scraping: https://en.wikipedia.org/wiki/2022_United_States_House_of_Representatives_elections_in_West_Virginia\n",
      "Web scraping west_virginia is complete!\n",
      "Web scraping of wyoming has begun!\n",
      "Currently scraping: https://en.wikipedia.org/wiki/2022_United_States_House_of_Representatives_election_in_Wyoming\n",
      "Web scraping wyoming is complete!\n"
     ]
    }
   ],
   "source": [
    "list_of_candidates = []\n",
    "\n",
    "for link in links.items():\n",
    "    url = (link[1]['site'])\n",
    "    state = (str(link[0]))\n",
    "    filename = os.path.join(link[0]) \n",
    "\n",
    "    def scrape(url, soup): \n",
    "        candidates = soup.find_all(\"td\", {'class' : [\"fn\"]})\n",
    "        \n",
    "        for each_candidate in candidates: \n",
    "            candidate_name = each_candidate.select_one('b')\n",
    "            list_of_candidates.append(candidate_name)\n",
    "\n",
    "            list_of_candidates_without_none = list(filter(None, list_of_candidates))\n",
    "            df = pd.DataFrame(list_of_candidates_without_none, dtype = 'object')\n",
    "            df.columns = [str(column) for column in df.columns]\n",
    "            df['CANDIDATE_NAME'] = df['0'].astype('string')\n",
    "            df[\"CANDIDATE_NAME\"] = df[\"CANDIDATE_NAME\"].str.replace('<b>', '', regex=False)\n",
    "            df[\"CANDIDATE_NAME\"] = df[\"CANDIDATE_NAME\"].str.replace('</b>', '', regex=False)\n",
    "            df[\"CANDIDATE_NAME\"] = df[\"CANDIDATE_NAME\"].str.replace('<a href=\"/wiki/', '', regex=False)\n",
    "            df[\"CANDIDATE_NAME\"] = df[\"CANDIDATE_NAME\"].str.replace('</a> (incumbent)', '', regex=False)\n",
    "            df[\"CANDIDATE_NAME\"] = df[\"CANDIDATE_NAME\"].str.replace('>', '', regex=False)\n",
    "            df[\"CANDIDATE_NAME\"] = df[\"CANDIDATE_NAME\"].str.replace('</a ', '', regex=False)\n",
    "            df['CANDIDATE_NAME'] = [x.split('\"')[-1] for x in df['CANDIDATE_NAME']]\n",
    "            df = df.drop(columns=['0'])\n",
    "            df_list = df.values.tolist()\n",
    "\n",
    "            with open('general_election_candidates_state/' + filename + '_' + 'general_election_candidates_' + run_stamp + '.txt', 'w') as f: \n",
    "                for item in df_list: \n",
    "                    f.write(\"%s\\n\" % item)\n",
    "        \n",
    "    def browse_and_scrape(url): \n",
    "        try: \n",
    "            html_text = requests.get(url).text\n",
    "            soup = BeautifulSoup(html_text, \"html.parser\")\n",
    "            print(f\"Currently scraping: {url}\")\n",
    "            \n",
    "            if soup.find(\"li\", class_ = \"next\") != None: \n",
    "                scrape(url, soup)\n",
    "                time.sleep(3)\n",
    "                page_number += 1\n",
    "                browse_and_scrape(url, page_number)\n",
    "            else: \n",
    "                scrape(url, soup)\n",
    "                return True\n",
    "            return True\n",
    "        except Exception as e:\n",
    "            return e\n",
    "\n",
    "    if __name__ == \"__main__\": \n",
    "\n",
    "        print(\"Web scraping of {} has begun!\".format(state))\n",
    "        result = browse_and_scrape(url)\n",
    "        if result == True: \n",
    "            print(\"Web scraping {} is complete!\".format(state))\n",
    "        else: \n",
    "            print(f\"Something is wrong: {result}\")"
   ]
  },
  {
   "cell_type": "code",
   "execution_count": 4,
   "id": "07620809",
   "metadata": {},
   "outputs": [
    {
     "data": {
      "text/plain": [
       "<Twilio.Api.V2010.MessageInstance account_sid=ACb17e5173f634afd26596ed51d595bfe5 sid=SMd3eae9d6c2804989a954309d22701b52>"
      ]
     },
     "execution_count": 4,
     "metadata": {},
     "output_type": "execute_result"
    }
   ],
   "source": [
    "from twilio.rest import Client\n",
    "account_sid = os.environ.get('TWILIO_ACCOUNT_SID')\n",
    "auth_token = os.environ.get('TWILIO_AUTH_TOKEN')\n",
    "client = Client(account_sid, auth_token)\n",
    "client.messages.create(from_ = os.environ.get('TWILIO_PHONE_NUMBER'),\n",
    "to = os.environ.get('KH_PHONE_NUMBER'),\n",
    "body = 'Your script -- {} -- has started running!'.format(ipynb_file_name))"
   ]
  },
  {
   "cell_type": "code",
   "execution_count": 5,
   "id": "b4fd3257",
   "metadata": {},
   "outputs": [
    {
     "name": "stdout",
     "output_type": "stream",
     "text": [
      "ACb17e5173f634afd26596ed51d595bfe5\n"
     ]
    }
   ],
   "source": [
    "print(account_sid)"
   ]
  },
  {
   "cell_type": "code",
   "execution_count": 6,
   "id": "0a36470d",
   "metadata": {},
   "outputs": [
    {
     "name": "stdout",
     "output_type": "stream",
     "text": [
      "ACb17e5173f634afd26596ed51d595bfe5\n"
     ]
    }
   ],
   "source": [
    "account_sid = os.environ.get('TWILIO_ACCOUNT_SID')\n",
    "auth_token = os.environ.get('TWILIO_AUTH_TOKEN')\n",
    "print(account_sid)"
   ]
  },
  {
   "cell_type": "code",
   "execution_count": null,
   "id": "504cd2fa",
   "metadata": {},
   "outputs": [],
   "source": []
  }
 ],
 "metadata": {
  "hide_input": false,
  "kernelspec": {
   "display_name": "Python 3",
   "language": "python",
   "name": "python3"
  },
  "language_info": {
   "codemirror_mode": {
    "name": "ipython",
    "version": 3
   },
   "file_extension": ".py",
   "mimetype": "text/x-python",
   "name": "python",
   "nbconvert_exporter": "python",
   "pygments_lexer": "ipython3",
   "version": "3.8.8"
  },
  "varInspector": {
   "cols": {
    "lenName": 16,
    "lenType": 16,
    "lenVar": 40
   },
   "kernels_config": {
    "python": {
     "delete_cmd_postfix": "",
     "delete_cmd_prefix": "del ",
     "library": "var_list.py",
     "varRefreshCmd": "print(var_dic_list())"
    },
    "r": {
     "delete_cmd_postfix": ") ",
     "delete_cmd_prefix": "rm(",
     "library": "var_list.r",
     "varRefreshCmd": "cat(var_dic_list()) "
    }
   },
   "types_to_exclude": [
    "module",
    "function",
    "builtin_function_or_method",
    "instance",
    "_Feature"
   ],
   "window_display": false
  }
 },
 "nbformat": 4,
 "nbformat_minor": 5
}
